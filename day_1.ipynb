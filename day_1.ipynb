{
 "cells": [
  {
   "cell_type": "markdown",
   "id": "95c91cd4",
   "metadata": {},
   "source": [
    "# Creating a custom MaxStack Class"
   ]
  },
  {
   "cell_type": "code",
   "execution_count": 1,
   "id": "076f2de7",
   "metadata": {},
   "outputs": [],
   "source": [
    "class MaxStack():\n",
    "    def __init__(self, size):\n",
    "        self.content = [0] * size\n",
    "        \n",
    "    def insert(self, elem):\n",
    "        if elem < self.content[0]:\n",
    "            return \"Not inserted\"\n",
    "        self.content[0] = elem\n",
    "        idx = 0\n",
    "        while idx < len(self.content) - 1 and self.content[idx + 1] < elem:\n",
    "            self.content[idx + 1], self.content[idx] = self.content[idx], self.content[idx + 1]\n",
    "            idx += 1\n",
    "        return f\"Number {elem} inserted at the idx {idx}\"\n",
    "        \n",
    "    def get_sum(self):\n",
    "        return sum(self.content)"
   ]
  },
  {
   "cell_type": "markdown",
   "id": "fa798330",
   "metadata": {},
   "source": [
    "## Testing the MaxStack"
   ]
  },
  {
   "cell_type": "code",
   "execution_count": 2,
   "id": "264975b1",
   "metadata": {},
   "outputs": [],
   "source": [
    "max_stack = MaxStack(size=3)"
   ]
  },
  {
   "cell_type": "code",
   "execution_count": 3,
   "id": "c5e22da0",
   "metadata": {},
   "outputs": [
    {
     "data": {
      "text/plain": [
       "[0, 0, 0]"
      ]
     },
     "execution_count": 3,
     "metadata": {},
     "output_type": "execute_result"
    }
   ],
   "source": [
    "max_stack.content"
   ]
  },
  {
   "cell_type": "code",
   "execution_count": 4,
   "id": "19c4adfa",
   "metadata": {},
   "outputs": [
    {
     "data": {
      "text/plain": [
       "('Number 12 inserted at the idx 2',\n",
       " 'Number 14 inserted at the idx 2',\n",
       " 'Number 8 inserted at the idx 0',\n",
       " 'Number 12 inserted at the idx 0',\n",
       " 'Number 42 inserted at the idx 2',\n",
       " 'Not inserted')"
      ]
     },
     "execution_count": 4,
     "metadata": {},
     "output_type": "execute_result"
    }
   ],
   "source": [
    "max_stack.insert(12), max_stack.insert(14), max_stack.insert(8), max_stack.insert(12), max_stack.insert(42), max_stack.insert(4)"
   ]
  },
  {
   "cell_type": "code",
   "execution_count": 5,
   "id": "358c8998",
   "metadata": {},
   "outputs": [
    {
     "data": {
      "text/plain": [
       "[12, 14, 42]"
      ]
     },
     "execution_count": 5,
     "metadata": {},
     "output_type": "execute_result"
    }
   ],
   "source": [
    "max_stack.content"
   ]
  },
  {
   "cell_type": "code",
   "execution_count": 6,
   "id": "dee9a539",
   "metadata": {},
   "outputs": [
    {
     "data": {
      "text/plain": [
       "68"
      ]
     },
     "execution_count": 6,
     "metadata": {},
     "output_type": "execute_result"
    }
   ],
   "source": [
    "max_stack.get_sum()"
   ]
  },
  {
   "cell_type": "markdown",
   "id": "ac77c8a5",
   "metadata": {},
   "source": [
    "# Problem 1 Solution "
   ]
  },
  {
   "cell_type": "code",
   "execution_count": 7,
   "id": "ef10baf9",
   "metadata": {},
   "outputs": [
    {
     "name": "stdout",
     "output_type": "stream",
     "text": [
      "CPU times: user 3 µs, sys: 1 µs, total: 4 µs\n",
      "Wall time: 6.91 µs\n",
      "72240\n"
     ]
    }
   ],
   "source": [
    "%time\n",
    "\n",
    "def compute_max_cal_from_file(file):\n",
    "    lines = file.readlines()\n",
    "    max_cal = 0\n",
    "    current_sum = 0\n",
    "    for line in lines:\n",
    "        if line.strip() == \"\":\n",
    "            max_cal = max(max_cal, current_sum)\n",
    "            current_sum = 0\n",
    "        else:\n",
    "            current_sum += int(line)\n",
    "    return max_cal\n",
    "    \n",
    "\n",
    "with open('data/day_1.txt', 'r', encoding=\"utf-8\") as file:\n",
    "    max_cal = compute_max_cal_from_file(file)\n",
    "    print(max_cal)"
   ]
  },
  {
   "cell_type": "code",
   "execution_count": 8,
   "id": "82dc87ce",
   "metadata": {},
   "outputs": [
    {
     "name": "stdout",
     "output_type": "stream",
     "text": [
      "CPU times: user 2 µs, sys: 1 µs, total: 3 µs\n",
      "Wall time: 4.05 µs\n",
      "72240\n"
     ]
    }
   ],
   "source": [
    "%time\n",
    "\n",
    "def compute_max_cal_from_file(file):\n",
    "    lines = file.readlines()\n",
    "    max_stack = MaxStack(size=1)\n",
    "    current_sum = 0\n",
    "    for line in lines:\n",
    "        if line.strip() == \"\":\n",
    "            max_stack.insert(current_sum)\n",
    "            current_sum = 0\n",
    "        else:\n",
    "            current_sum += int(line)\n",
    "    return max_stack.get_sum()\n",
    "\n",
    "with open('data/day_1.txt', 'r', encoding=\"utf-8\") as file:\n",
    "    max_cal = compute_max_cal_from_file(file)\n",
    "    print(max_cal)"
   ]
  },
  {
   "cell_type": "markdown",
   "id": "8329347a",
   "metadata": {},
   "source": [
    "# Problem 2 Solution "
   ]
  },
  {
   "cell_type": "code",
   "execution_count": 9,
   "id": "9812f960",
   "metadata": {},
   "outputs": [
    {
     "name": "stdout",
     "output_type": "stream",
     "text": [
      "CPU times: user 3 µs, sys: 1 µs, total: 4 µs\n",
      "Wall time: 6.68 µs\n",
      "210957\n"
     ]
    }
   ],
   "source": [
    "%time\n",
    "\n",
    "def compute_max_tree_cal_from_file(file):\n",
    "    lines = file.readlines()\n",
    "    max_stack = MaxStack(size=3)\n",
    "    current_sum = 0\n",
    "    for line in lines:\n",
    "        if line.strip() == \"\":\n",
    "            max_stack.insert(current_sum)\n",
    "            current_sum = 0\n",
    "        else:\n",
    "            current_sum += int(line)\n",
    "    return max_stack.get_sum()\n",
    "\n",
    "with open('data/day_1.txt', 'r', encoding=\"utf-8\") as file:\n",
    "    max_tree_cal = compute_max_tree_cal_from_file(file)\n",
    "    print(max_tree_cal)"
   ]
  }
 ],
 "metadata": {
  "kernelspec": {
   "display_name": "Python 3 (ipykernel)",
   "language": "python",
   "name": "python3"
  },
  "language_info": {
   "codemirror_mode": {
    "name": "ipython",
    "version": 3
   },
   "file_extension": ".py",
   "mimetype": "text/x-python",
   "name": "python",
   "nbconvert_exporter": "python",
   "pygments_lexer": "ipython3",
   "version": "3.10.8"
  }
 },
 "nbformat": 4,
 "nbformat_minor": 5
}
