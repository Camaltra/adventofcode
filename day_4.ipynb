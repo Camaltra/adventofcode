{
 "cells": [
  {
   "cell_type": "markdown",
   "id": "0a8912bd",
   "metadata": {},
   "source": [
    "# Helpers"
   ]
  },
  {
   "cell_type": "code",
   "execution_count": 1,
   "id": "382fd5e6",
   "metadata": {},
   "outputs": [],
   "source": [
    "def is_fully_overlaping(first_pair, second_pair):\n",
    "    if (first_pair[0] >= second_pair[0] and first_pair[1] <= second_pair[1]):\n",
    "        return 1\n",
    "    if (second_pair[0] >= first_pair[0] and second_pair[1] <= first_pair[1]):\n",
    "        return 1\n",
    "    return 0\n",
    "\n",
    "def is_overlaping(first_pair, second_pair):\n",
    "    return 1 if min(first_pair[1], second_pair[1]) - max(first_pair[0], second_pair[0]) >= 0 else 0"
   ]
  },
  {
   "cell_type": "markdown",
   "id": "473358a9",
   "metadata": {},
   "source": [
    "# Problem 1"
   ]
  },
  {
   "cell_type": "code",
   "execution_count": 2,
   "id": "4481bc86",
   "metadata": {},
   "outputs": [
    {
     "data": {
      "text/plain": [
       "528"
      ]
     },
     "execution_count": 2,
     "metadata": {},
     "output_type": "execute_result"
    }
   ],
   "source": [
    "with open(\"data/day_4.txt\", \"r\") as file:\n",
    "    lines = file.readlines()\n",
    "    nb_of_pairs = 0\n",
    "    for line in lines:\n",
    "        line = line.strip()\n",
    "        numbers = list(map(int, \"-\".join(line.split(\",\")).split(\"-\")))\n",
    "        first_pair = numbers[:2]\n",
    "        second_pair = numbers[2:]\n",
    "        nb_of_pairs += is_fully_overlaping(first_pair, second_pair)\n",
    "        \n",
    "nb_of_pairs"
   ]
  },
  {
   "cell_type": "markdown",
   "id": "207722d0",
   "metadata": {},
   "source": [
    "# Problem 2"
   ]
  },
  {
   "cell_type": "code",
   "execution_count": 3,
   "id": "8172e894",
   "metadata": {},
   "outputs": [
    {
     "data": {
      "text/plain": [
       "881"
      ]
     },
     "execution_count": 3,
     "metadata": {},
     "output_type": "execute_result"
    }
   ],
   "source": [
    "with open(\"data/day_4.txt\", \"r\") as file:\n",
    "    lines = file.readlines()\n",
    "    nb_of_pairs = 0\n",
    "    for line in lines:\n",
    "        line = line.strip()\n",
    "        numbers = list(map(int, \"-\".join(line.split(\",\")).split(\"-\")))\n",
    "        first_pair = numbers[:2]\n",
    "        second_pair = numbers[2:]\n",
    "        nb_of_pairs += is_overlaping(first_pair, second_pair)\n",
    "        \n",
    "nb_of_pairs"
   ]
  }
 ],
 "metadata": {
  "kernelspec": {
   "display_name": "Python 3 (ipykernel)",
   "language": "python",
   "name": "python3"
  },
  "language_info": {
   "codemirror_mode": {
    "name": "ipython",
    "version": 3
   },
   "file_extension": ".py",
   "mimetype": "text/x-python",
   "name": "python",
   "nbconvert_exporter": "python",
   "pygments_lexer": "ipython3",
   "version": "3.10.8"
  }
 },
 "nbformat": 4,
 "nbformat_minor": 5
}
