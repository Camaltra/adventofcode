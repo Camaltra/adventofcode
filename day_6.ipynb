{
 "cells": [
  {
   "cell_type": "markdown",
   "id": "b484a934",
   "metadata": {},
   "source": [
    "# Problem 1 & 2"
   ]
  },
  {
   "cell_type": "code",
   "execution_count": 1,
   "id": "909c2ae8",
   "metadata": {},
   "outputs": [
    {
     "name": "stdout",
     "output_type": "stream",
     "text": [
      "2260\n"
     ]
    }
   ],
   "source": [
    "with open(\"data/day_6.txt\", \"r\") as file:\n",
    "    line = file.readlines()[0]\n",
    "    line.strip()\n",
    "    window_buffer_dict = {}\n",
    "    start, end = 0, 0\n",
    "    while end < len(line):\n",
    "        if (end - start) == 14:\n",
    "            break\n",
    "        while start <= end and window_buffer_dict.get(line[end]) == True:\n",
    "            window_buffer_dict[line[start]] = False\n",
    "            start += 1\n",
    "        window_buffer_dict[line[end]] = True\n",
    "        end += 1\n",
    "    print(end)"
   ]
  }
 ],
 "metadata": {
  "kernelspec": {
   "display_name": "Python 3 (ipykernel)",
   "language": "python",
   "name": "python3"
  },
  "language_info": {
   "codemirror_mode": {
    "name": "ipython",
    "version": 3
   },
   "file_extension": ".py",
   "mimetype": "text/x-python",
   "name": "python",
   "nbconvert_exporter": "python",
   "pygments_lexer": "ipython3",
   "version": "3.10.8"
  }
 },
 "nbformat": 4,
 "nbformat_minor": 5
}
