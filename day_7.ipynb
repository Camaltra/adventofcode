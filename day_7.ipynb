{
 "cells": [
  {
   "cell_type": "markdown",
   "id": "cf0c5383",
   "metadata": {},
   "source": [
    "# Helplers"
   ]
  },
  {
   "cell_type": "markdown",
   "id": "d91dea65",
   "metadata": {},
   "source": [
    "## Tree class"
   ]
  },
  {
   "cell_type": "code",
   "execution_count": 235,
   "id": "683ea790",
   "metadata": {},
   "outputs": [],
   "source": [
    "class Directory:\n",
    "    def __init__(self, name, depth=0):\n",
    "        self.name = name\n",
    "        self.sub_directories: list[Directory] = []\n",
    "        self.total_size = 0\n",
    "        self.file_size = 0\n",
    "        self.parent: Directory | None = None\n",
    "        self.files: list[File] = []\n",
    "        self.depth = depth\n",
    "     \n",
    "    def check_is_already_sub_directory(self, name_sub_directory):\n",
    "        return len([sub_d for sub_d in self.sub_directories if sub_d.name == name_sub_directory]) != 0\n",
    "    \n",
    "    def check_is_file_already_added(self, file_name):\n",
    "        return len([file for file in self.files if file.name == file_name]) != 0    \n",
    "\n",
    "    def add_sub_directory(self, name_sub_directory):\n",
    "        if self.check_is_already_sub_directory(name_sub_directory):\n",
    "            return\n",
    "        new_sub_directory = Directory(name=name_sub_directory, depth=self.depth + 1)\n",
    "        new_sub_directory.parent = self\n",
    "        self.sub_directories.append(new_sub_directory)\n",
    "    \n",
    "    def get_sub_directory_instance(self, name_sub_directory):\n",
    "        for sub_directory in self.sub_directories:\n",
    "            if name_sub_directory == sub_directory.name:\n",
    "                return sub_directory\n",
    "    \n",
    "    def adding_file_into_dir(self, file_name, file_size):\n",
    "        if self.check_is_file_already_added(file_name):\n",
    "            return\n",
    "        file = File(file_name, file_size)\n",
    "        self.file_size += int(file_size)\n",
    "        self.files.append(file)\n",
    "        \n",
    "    def set_folder_size(self):\n",
    "        total_size = self.file_size\n",
    "        for sub_folder in self.sub_directories:\n",
    "            total_size += sub_folder.total_size\n",
    "        self.total_size = total_size\n",
    "\n",
    "            \n",
    "        \n",
    "    \n",
    "class File:\n",
    "    def __init__(self, name, size):\n",
    "        self.name = name\n",
    "        self.size = int(size)"
   ]
  },
  {
   "cell_type": "markdown",
   "id": "c94c0b16",
   "metadata": {},
   "source": [
    "## Helpers functions"
   ]
  },
  {
   "cell_type": "code",
   "execution_count": 236,
   "id": "fa196476",
   "metadata": {},
   "outputs": [],
   "source": [
    "def check_is_file(args):\n",
    "    return args[0] != \"$\"\n",
    "\n",
    "def check_is_dir(args):\n",
    "    return args[0] == \"dir\"\n",
    "\n",
    "def command_is_cd(args):\n",
    "    return args[1] == \"cd\"\n",
    "\n",
    "def command_is_ls(args):\n",
    "    return args[1] == \"ls\"\n",
    "\n",
    "def init_tree():\n",
    "    return Directory(name=\"/\", depth=0)\n",
    "\n",
    "def create_folder_tree(lines):\n",
    "    current_dir = init_tree()\n",
    "    root_folder = current_dir\n",
    "    for line in lines[1:]:\n",
    "        args = line.strip().split(\" \")\n",
    "        if command_is_ls(args):\n",
    "            continue\n",
    "        elif check_is_dir(args):\n",
    "            current_dir.add_sub_directory(args[1])\n",
    "        elif check_is_file(args):\n",
    "            current_dir.adding_file_into_dir(args[1], args[0])\n",
    "        elif command_is_cd(args):\n",
    "            # Logic to take aways\n",
    "            if args[2] == \"..\":\n",
    "                current_dir = current_dir.parent\n",
    "            else:\n",
    "                current_dir = current_dir.get_sub_directory_instance(args[2])\n",
    "    return root_folder\n",
    "\n",
    "def display_folder_tree(folder):\n",
    "    tab_size = folder.depth * \"    \"\n",
    "    if folder.parent == None:\n",
    "        print(f\"{tab_size}- DIR {folder.name} (SIZE: {folder.total_size})\")\n",
    "    for sub_folder in folder.sub_directories:\n",
    "        print(f\"{tab_size}- DIR {sub_folder.name} (SIZE: {sub_folder.total_size})\")\n",
    "        display_folder_tree(sub_folder)\n",
    "    for file in folder.files:\n",
    "        print(f\"{tab_size}- FILE {file.name} (SIZE: {file.size})\")\n",
    "    return\n",
    "\n",
    "def set_all_folders_size(folder):\n",
    "    if not folder.sub_directories:\n",
    "        folder.total_size = folder.file_size\n",
    "    for sub_folder in folder.sub_directories:\n",
    "        set_all_folders_size(sub_folder)\n",
    "    folder.set_folder_size()\n",
    "    \n",
    "def get_sum_of_all_file_less_than_specific_size(folder, specific_size=100000, result_array=None):\n",
    "    if result_array is None:\n",
    "        result_array=[]\n",
    "    if (size_to_add := folder.total_size) < specific_size:\n",
    "        result_array.append(size_to_add)\n",
    "    for sub_folder in folder.sub_directories:\n",
    "        get_sum_of_all_file_less_than_specific_size(sub_folder,\n",
    "                                                    specific_size=specific_size,\n",
    "                                                    result_array=result_array)\n",
    "    return sum(result_array)\n",
    "\n",
    "def get_all_file_more_than_specific_size(folder, specific_size=100000, result_array=None):\n",
    "    if result_array is None:\n",
    "        result_array=[]\n",
    "    if (size_to_add := folder.total_size) >= specific_size:\n",
    "        result_array.append(size_to_add)\n",
    "    for sub_folder in folder.sub_directories:\n",
    "        get_all_file_more_than_specific_size(sub_folder,\n",
    "                                                    specific_size=specific_size,\n",
    "                                                    result_array=result_array)\n",
    "    return result_array"
   ]
  },
  {
   "cell_type": "markdown",
   "id": "dca532bc",
   "metadata": {},
   "source": [
    "# Problem 1"
   ]
  },
  {
   "cell_type": "code",
   "execution_count": 237,
   "id": "989d7c38",
   "metadata": {},
   "outputs": [
    {
     "name": "stdout",
     "output_type": "stream",
     "text": [
      "1084134\n"
     ]
    }
   ],
   "source": [
    "with open(\"data/day_7.txt\", \"r\") as file:\n",
    "    lines = file.readlines()\n",
    "    root_folder = create_folder_tree(lines)\n",
    "    set_all_folders_size(root_folder)\n",
    "    #display_folder_tree(root_folder)\n",
    "    result = get_sum_of_all_file_less_than_specific_size(root_folder)\n",
    "    print(result)"
   ]
  },
  {
   "cell_type": "markdown",
   "id": "11c533ce",
   "metadata": {},
   "source": [
    "# Problem 2"
   ]
  },
  {
   "cell_type": "code",
   "execution_count": 238,
   "id": "9e761a21",
   "metadata": {},
   "outputs": [
    {
     "name": "stdout",
     "output_type": "stream",
     "text": [
      "6183184\n"
     ]
    }
   ],
   "source": [
    "with open(\"data/day_7.txt\") as file:\n",
    "    lines = file.readlines()\n",
    "    root_folder = create_folder_tree(lines)\n",
    "    set_all_folders_size(root_folder)\n",
    "    #display_folder_tree(root_folder)\n",
    "    size_of_system = root_folder.total_size\n",
    "    size_to_free = 30000000 - (70000000 - size_of_system)\n",
    "    print(min(get_all_file_more_than_specific_size(root_folder, specific_size=size_to_free)))"
   ]
  }
 ],
 "metadata": {
  "kernelspec": {
   "display_name": "Python 3 (ipykernel)",
   "language": "python",
   "name": "python3"
  },
  "language_info": {
   "codemirror_mode": {
    "name": "ipython",
    "version": 3
   },
   "file_extension": ".py",
   "mimetype": "text/x-python",
   "name": "python",
   "nbconvert_exporter": "python",
   "pygments_lexer": "ipython3",
   "version": "3.10.8"
  }
 },
 "nbformat": 4,
 "nbformat_minor": 5
}
