{
 "cells": [
  {
   "cell_type": "code",
   "execution_count": 1,
   "id": "c764c605",
   "metadata": {},
   "outputs": [],
   "source": [
    "# [P]     [L]         [T]            \n",
    "# [L]     [M] [G]     [G]     [S]    \n",
    "# [M]     [Q] [W]     [H] [R] [G]    \n",
    "# [N]     [F] [M]     [D] [V] [R] [N]\n",
    "# [W]     [G] [Q] [P] [J] [F] [M] [C]\n",
    "# [V] [H] [B] [F] [H] [M] [B] [H] [B]\n",
    "# [B] [Q] [D] [T] [T] [B] [N] [L] [D]\n",
    "# [H] [M] [N] [Z] [M] [C] [M] [P] [P]\n",
    "#  1   2   3   4   5   6   7   8   9 \n",
    "\n",
    "stacks = [\n",
    "    ['P', 'L', 'M', 'N', 'W', 'V', 'B', 'H'],\n",
    "    ['H', 'Q', 'M'],\n",
    "    ['L', 'M', 'Q', 'F', 'G', 'B', 'D', 'N'],\n",
    "    ['G', 'W', 'M', 'Q', 'F', 'T', 'Z'],\n",
    "    ['P', 'H', 'T', 'M'],\n",
    "    ['T', 'G', 'H', 'D', 'J', 'M', 'B', 'C'],\n",
    "    ['R', 'V', 'F', 'B', 'N', 'M'],\n",
    "    ['S', 'G', 'R', 'M', 'H', 'L', 'P'],\n",
    "    ['N', 'C', 'B', 'D', 'P']\n",
    "]"
   ]
  },
  {
   "cell_type": "code",
   "execution_count": 2,
   "id": "389cff6c",
   "metadata": {},
   "outputs": [
    {
     "name": "stdout",
     "output_type": "stream",
     "text": [
      "GMPMLWNMG"
     ]
    }
   ],
   "source": [
    "with open(\"data/day_5.txt\", \"r\") as file:\n",
    "    lines = file.readlines()\n",
    "    for line in lines:\n",
    "        line = line.strip().split(\" \")\n",
    "        from_stack = int(line[3]) - 1\n",
    "        to_stack = int(line[5]) - 1\n",
    "        numbers_of_elem = int(line[1])\n",
    "        tmp = stacks[from_stack][:numbers_of_elem]\n",
    "        stacks[from_stack] = stacks[from_stack][numbers_of_elem:]\n",
    "        stacks[to_stack] = tmp + stacks[to_stack] # Just have to reverse the \n",
    "        \n",
    "for stack in stacks:\n",
    "    print(stack[0], end=\"\")"
   ]
  }
 ],
 "metadata": {
  "kernelspec": {
   "display_name": "Python 3 (ipykernel)",
   "language": "python",
   "name": "python3"
  },
  "language_info": {
   "codemirror_mode": {
    "name": "ipython",
    "version": 3
   },
   "file_extension": ".py",
   "mimetype": "text/x-python",
   "name": "python",
   "nbconvert_exporter": "python",
   "pygments_lexer": "ipython3",
   "version": "3.10.8"
  }
 },
 "nbformat": 4,
 "nbformat_minor": 5
}
