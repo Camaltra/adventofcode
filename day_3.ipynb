{
 "cells": [
  {
   "cell_type": "markdown",
   "id": "1519c75a",
   "metadata": {},
   "source": [
    "# Helpers"
   ]
  },
  {
   "cell_type": "code",
   "execution_count": 1,
   "id": "7604d355",
   "metadata": {},
   "outputs": [],
   "source": [
    "LOWER_SUB = ord('a') - 1\n",
    "UPPER_SUB = ord('A') - 1\n",
    "\n",
    "def get_commons_char_form_line(line):\n",
    "    size_of_compartiment = int(len(line) / 2)\n",
    "    first_half = set(line[:size_of_compartiment])\n",
    "    second_half = set(line[size_of_compartiment:])\n",
    "    return first_half.intersection(second_half)\n",
    "\n",
    "def get_importance_for_char_value(obj):\n",
    "    return common_char_value - UPPER_SUB + 26 if common_char_value < LOWER_SUB else common_char_value - LOWER_SUB\n",
    "\n",
    "def get_commons_char_form_diffents_bags(lines):\n",
    "    bags = [set(line) for line in lines]\n",
    "    return bags[0].intersection(bags[1], bags[2])"
   ]
  },
  {
   "cell_type": "markdown",
   "id": "35edd58a",
   "metadata": {},
   "source": [
    "# Problem 1"
   ]
  },
  {
   "cell_type": "code",
   "execution_count": 2,
   "id": "fa06a1f9",
   "metadata": {},
   "outputs": [
    {
     "data": {
      "text/plain": [
       "7811"
      ]
     },
     "execution_count": 2,
     "metadata": {},
     "output_type": "execute_result"
    }
   ],
   "source": [
    "with open(\"data/day_3.txt\", \"r\") as file:\n",
    "    lines = file.readlines()\n",
    "    total_sum = 0\n",
    "    for line in lines:\n",
    "        line = line.strip()\n",
    "        common_char_value = ord(next(iter(get_commons_char_form_line(line))))\n",
    "        total_sum += get_importance_for_char_value(common_char_value)\n",
    "        \n",
    "total_sum\n",
    "        "
   ]
  },
  {
   "cell_type": "code",
   "execution_count": 3,
   "id": "845fbc4a",
   "metadata": {},
   "outputs": [
    {
     "data": {
      "text/plain": [
       "2639"
      ]
     },
     "execution_count": 3,
     "metadata": {},
     "output_type": "execute_result"
    }
   ],
   "source": [
    "with open(\"data/day_3.txt\", 'r') as file:\n",
    "    lines = [line.strip() for line in file.readlines()]\n",
    "    start, end = 0, 3\n",
    "    total_sum = 0\n",
    "    while end < len(lines) + 1:\n",
    "        common_char_value = ord(next(iter(get_commons_char_form_diffents_bags(lines[start:end]))))\n",
    "        total_sum += get_importance_for_char_value(common_char_value)\n",
    "        start = end\n",
    "        end += 3\n",
    "        \n",
    "total_sum  "
   ]
  }
 ],
 "metadata": {
  "kernelspec": {
   "display_name": "Python 3 (ipykernel)",
   "language": "python",
   "name": "python3"
  },
  "language_info": {
   "codemirror_mode": {
    "name": "ipython",
    "version": 3
   },
   "file_extension": ".py",
   "mimetype": "text/x-python",
   "name": "python",
   "nbconvert_exporter": "python",
   "pygments_lexer": "ipython3",
   "version": "3.10.8"
  }
 },
 "nbformat": 4,
 "nbformat_minor": 5
}
