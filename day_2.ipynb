{
 "cells": [
  {
   "cell_type": "markdown",
   "id": "b71e0e62",
   "metadata": {},
   "source": [
    "# Problem 1\n",
    "\n",
    "Classic Shi-Fu-mi\n",
    "\n",
    "#### Win condition\n",
    "If the substract score between my play and the play of the oppent modulo 3 is == 1, then it's a win\n",
    "\n",
    "#### Tie condition\n",
    "If the substract score between my play and the play of the oppent == 0, then it's a tie\n",
    "\n",
    "#### Lose conditon\n",
    "Every other possibilities"
   ]
  },
  {
   "cell_type": "code",
   "execution_count": 2,
   "id": "e3683986",
   "metadata": {},
   "outputs": [
    {
     "data": {
      "text/plain": [
       "15691"
      ]
     },
     "execution_count": 2,
     "metadata": {},
     "output_type": "execute_result"
    }
   ],
   "source": [
    "SCORE_MAPPING = {\"A\": 1, \"B\": 2, \"C\": 3, \"X\": 1, \"Y\": 2, \"Z\": 3}\n",
    "\n",
    "# A = Rock, B = Paper, C = Scissors\n",
    "# X = Rock, Y = Paper, Z = Scissors\n",
    "\n",
    "with open(\"data/day_2.txt\", \"r\") as file:\n",
    "    lines = file.readlines()\n",
    "    final_score = 0\n",
    "    for line in lines:\n",
    "        sub_party_choices = line.strip().split(\" \")\n",
    "        opponent_choice = SCORE_MAPPING.get(sub_party_choices[0])\n",
    "        self_choice = SCORE_MAPPING.get(sub_party_choices[1])\n",
    "        is_win = (self_choice - opponent_choice) % 3 == 1\n",
    "        if not is_win:\n",
    "            is_tie = self_choice - opponent_choice == 0\n",
    "            if is_tie:\n",
    "                final_score += 3\n",
    "        else:\n",
    "            final_score += 6\n",
    "        final_score += self_choice\n",
    "        \n",
    "final_score"
   ]
  },
  {
   "cell_type": "markdown",
   "id": "eb055fbe",
   "metadata": {},
   "source": [
    "# Problem 2\n",
    "\n",
    "The final score is calculated with:\n",
    "- The score by winning, making tie or losing plus\n",
    "- The score of my choice, determined by the choice of the opponant - 1 (cause in base 3 so 1 = 0, 2 = 1, 3 = 2) + the diff that I needed to do (Losing = -1, Making tie = +0, Winning = +1) % 3 -> Give a int in range(0, 3) + 1 to get to the normal"
   ]
  },
  {
   "cell_type": "code",
   "execution_count": 3,
   "id": "df1e8b32",
   "metadata": {},
   "outputs": [
    {
     "data": {
      "text/plain": [
       "12989"
      ]
     },
     "execution_count": 3,
     "metadata": {},
     "output_type": "execute_result"
    }
   ],
   "source": [
    "SCORE_MAPPING = {\"A\": 1, \"B\": 2, \"C\": 3, \"X\": -1, \"Y\": 0, \"Z\": 1}\n",
    "WIN_LOSE_SCORE_MAPPING = {\"X\": 0, \"Y\": 3, \"Z\": 6}\n",
    "\n",
    "with open(\"data/day_2.txt\", \"r\") as file:\n",
    "    lines = file.readlines()\n",
    "    final_score = 0\n",
    "    for line in lines:\n",
    "        sub_party_choices = line.strip().split(\" \")\n",
    "        opponent_choice = SCORE_MAPPING.get(sub_party_choices[0])\n",
    "        self_choice = sub_party_choices[1]\n",
    "        final_score += WIN_LOSE_SCORE_MAPPING.get(self_choice) + (opponent_choice - 1 + SCORE_MAPPING.get(self_choice)) % 3 + 1\n",
    "\n",
    "        \n",
    "final_score"
   ]
  }
 ],
 "metadata": {
  "kernelspec": {
   "display_name": "Python 3 (ipykernel)",
   "language": "python",
   "name": "python3"
  },
  "language_info": {
   "codemirror_mode": {
    "name": "ipython",
    "version": 3
   },
   "file_extension": ".py",
   "mimetype": "text/x-python",
   "name": "python",
   "nbconvert_exporter": "python",
   "pygments_lexer": "ipython3",
   "version": "3.10.8"
  }
 },
 "nbformat": 4,
 "nbformat_minor": 5
}
